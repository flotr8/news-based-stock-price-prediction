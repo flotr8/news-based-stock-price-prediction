{
 "cells": [
  {
   "cell_type": "code",
   "execution_count": null,
   "id": "1220b549",
   "metadata": {},
   "outputs": [],
   "source": [
    "import requests\n",
    "import os\n",
    "import pandas as pd\n",
    "import re\n",
    "from bs4 import BeautifulSoup\n",
    "from datetime import datetime\n",
    "import time\n",
    "urlRep = 'https://www.reuters.com/news/archive/us?view=page&page=100&pageSize=10'"
   ]
  },
  {
   "cell_type": "code",
   "execution_count": null,
   "id": "7dcf4200",
   "metadata": {},
   "outputs": [],
   "source": [
    "response = requests.get(urlRep)\n",
    "response.status_code, response.reason\n",
    "paths = []"
   ]
  },
  {
   "cell_type": "code",
   "execution_count": null,
   "id": "a6989ffd",
   "metadata": {},
   "outputs": [],
   "source": [
    "def getLinks(response):\n",
    "    soup = BeautifulSoup(response.text, \"lxml\")\n",
    "    articles = soup.findAll('div', attrs = {'class': 'story-content'})\n",
    "\n",
    "    for article in articles:\n",
    "        paths.append(article.find('a')['href'])\n",
    "        if len(paths) % 100 == 0:\n",
    "            print(len(paths))\n",
    "    \n",
    "    if len(articles) == 0:\n",
    "        print(\"0 links added, please check\")"
   ]
  },
  {
   "cell_type": "code",
   "execution_count": null,
   "id": "9e540bd8",
   "metadata": {},
   "outputs": [],
   "source": [
    "paths = []\n",
    "\n",
    "#Link for GeneralNews\n",
    "urlReuters = 'https://www.reuters.com/news/archive/us?view=page&page='\n",
    "#Link for Stock News\n",
    "#urlReuters = 'https://www.reuters.com/news/archive/marketsNews?view=page&page='\n",
    "urlEnd = '&pageSize=10'\n",
    "\n",
    "for i in range(0,2000):\n",
    "    response = requests.get(urlReuters + str(i) + urlEnd)\n",
    "    if response.status_code != 200:\n",
    "        print(response.status_code, response.reason)\n",
    "    getLinks(response)"
   ]
  },
  {
   "cell_type": "code",
   "execution_count": null,
   "id": "e9fb39a1",
   "metadata": {},
   "outputs": [],
   "source": [
    "timestr = time.strftime(\"%Y%m%d-%H%M%S\")\n",
    "print(i)\n",
    "dfp = pd.DataFrame (paths, columns = ['Path'])\n",
    "#output path for Links\n",
    "dfp.to_csv('data/links/reutersHeadlinesPaths_' + timestr + '.csv')"
   ]
  },
  {
   "cell_type": "code",
   "execution_count": null,
   "id": "9bc755e5",
   "metadata": {},
   "outputs": [],
   "source": []
  }
 ],
 "metadata": {
  "kernelspec": {
   "display_name": "Python 3.7.4 64-bit ('anaconda3')",
   "language": "python",
   "name": "python3"
  },
  "language_info": {
   "codemirror_mode": {
    "name": "ipython",
    "version": 3
   },
   "file_extension": ".py",
   "mimetype": "text/x-python",
   "name": "python",
   "nbconvert_exporter": "python",
   "pygments_lexer": "ipython3",
   "version": "3.7.15"
  },
  "vscode": {
   "interpreter": {
    "hash": "9cd9cba96be51690fdf2e89f48d9c24126dbd81f80c0eb8bb1b203fd33f1f943"
   }
  }
 },
 "nbformat": 4,
 "nbformat_minor": 5
}
