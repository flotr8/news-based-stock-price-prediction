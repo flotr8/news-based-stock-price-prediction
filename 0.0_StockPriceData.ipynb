{
 "cells": [
  {
   "cell_type": "code",
   "execution_count": 4,
   "metadata": {},
   "outputs": [],
   "source": [
    "import pytz\n",
    "import yfinance as yf\n",
    "import datetime as dt\n",
    "import os\n",
    "from datetime import datetime\n",
    "import time\n",
    "import pandas as pd"
   ]
  },
  {
   "cell_type": "code",
   "execution_count": 8,
   "metadata": {},
   "outputs": [
    {
     "name": "stdout",
     "output_type": "stream",
     "text": [
      "[*********************100%***********************]  1 of 1 completed\n"
     ]
    },
    {
     "data": {
      "text/html": [
       "<div>\n",
       "<style scoped>\n",
       "    .dataframe tbody tr th:only-of-type {\n",
       "        vertical-align: middle;\n",
       "    }\n",
       "\n",
       "    .dataframe tbody tr th {\n",
       "        vertical-align: top;\n",
       "    }\n",
       "\n",
       "    .dataframe thead th {\n",
       "        text-align: right;\n",
       "    }\n",
       "</style>\n",
       "<table border=\"1\" class=\"dataframe\">\n",
       "  <thead>\n",
       "    <tr style=\"text-align: right;\">\n",
       "      <th></th>\n",
       "      <th>Open</th>\n",
       "      <th>High</th>\n",
       "      <th>Low</th>\n",
       "      <th>Close</th>\n",
       "      <th>Adj Close</th>\n",
       "      <th>Volume</th>\n",
       "    </tr>\n",
       "    <tr>\n",
       "      <th>Datetime</th>\n",
       "      <th></th>\n",
       "      <th></th>\n",
       "      <th></th>\n",
       "      <th></th>\n",
       "      <th></th>\n",
       "      <th></th>\n",
       "    </tr>\n",
       "  </thead>\n",
       "  <tbody>\n",
       "    <tr>\n",
       "      <th>2021-04-27 09:30:00+00:00</th>\n",
       "      <td>33932.128906</td>\n",
       "      <td>33977.761719</td>\n",
       "      <td>33870.460938</td>\n",
       "      <td>33942.128906</td>\n",
       "      <td>33942.128906</td>\n",
       "      <td>0</td>\n",
       "    </tr>\n",
       "    <tr>\n",
       "      <th>2021-04-27 10:30:00+00:00</th>\n",
       "      <td>33945.351562</td>\n",
       "      <td>33973.738281</td>\n",
       "      <td>33913.609375</td>\n",
       "      <td>33943.699219</td>\n",
       "      <td>33943.699219</td>\n",
       "      <td>34690908</td>\n",
       "    </tr>\n",
       "    <tr>\n",
       "      <th>2021-04-27 11:30:00+00:00</th>\n",
       "      <td>33943.429688</td>\n",
       "      <td>33979.828125</td>\n",
       "      <td>33937.609375</td>\n",
       "      <td>33968.378906</td>\n",
       "      <td>33968.378906</td>\n",
       "      <td>26204084</td>\n",
       "    </tr>\n",
       "    <tr>\n",
       "      <th>2021-04-27 12:30:00+00:00</th>\n",
       "      <td>33970.058594</td>\n",
       "      <td>33970.308594</td>\n",
       "      <td>33915.480469</td>\n",
       "      <td>33954.859375</td>\n",
       "      <td>33954.859375</td>\n",
       "      <td>25122333</td>\n",
       "    </tr>\n",
       "    <tr>\n",
       "      <th>2021-04-27 13:30:00+00:00</th>\n",
       "      <td>33954.988281</td>\n",
       "      <td>33985.441406</td>\n",
       "      <td>33943.679688</td>\n",
       "      <td>33984.988281</td>\n",
       "      <td>33984.988281</td>\n",
       "      <td>23566184</td>\n",
       "    </tr>\n",
       "  </tbody>\n",
       "</table>\n",
       "</div>"
      ],
      "text/plain": [
       "                                   Open          High           Low  \\\n",
       "Datetime                                                              \n",
       "2021-04-27 09:30:00+00:00  33932.128906  33977.761719  33870.460938   \n",
       "2021-04-27 10:30:00+00:00  33945.351562  33973.738281  33913.609375   \n",
       "2021-04-27 11:30:00+00:00  33943.429688  33979.828125  33937.609375   \n",
       "2021-04-27 12:30:00+00:00  33970.058594  33970.308594  33915.480469   \n",
       "2021-04-27 13:30:00+00:00  33954.988281  33985.441406  33943.679688   \n",
       "\n",
       "                                  Close     Adj Close    Volume  \n",
       "Datetime                                                         \n",
       "2021-04-27 09:30:00+00:00  33942.128906  33942.128906         0  \n",
       "2021-04-27 10:30:00+00:00  33943.699219  33943.699219  34690908  \n",
       "2021-04-27 11:30:00+00:00  33968.378906  33968.378906  26204084  \n",
       "2021-04-27 12:30:00+00:00  33954.859375  33954.859375  25122333  \n",
       "2021-04-27 13:30:00+00:00  33984.988281  33984.988281  23566184  "
      ]
     },
     "execution_count": 8,
     "metadata": {},
     "output_type": "execute_result"
    }
   ],
   "source": [
    "#Define Ticker\n",
    "ticker = 'AAPL'\n",
    "start = '2022-01-01'\n",
    "end = '2022-12-01'\n",
    "#interval 60m only available for last 760 days\n",
    "data = yf.download(ticker, start= start, end= end,  interval = \"60m\")\n",
    "data.index = pd.to_datetime(data.index).tz_localize('utc')\n",
    "data.head(5)"
   ]
  },
  {
   "cell_type": "code",
   "execution_count": 9,
   "metadata": {},
   "outputs": [],
   "source": [
    "timestr = time.strftime(\"%Y%m%d-%H%M%S\")\n",
    "\n",
    "if not os.path.exists(r'data/stock_data/' + ticker):\n",
    "   # Create a new directory because it does not exist\n",
    "   os.makedirs(r'data/stock_data/' + ticker)\n",
    "data.to_csv('data/stock_data/' + ticker + '/' + ticker + '_' + start + '_' + end  +'.csv')"
   ]
  },
  {
   "cell_type": "code",
   "execution_count": null,
   "metadata": {},
   "outputs": [],
   "source": []
  }
 ],
 "metadata": {
  "kernelspec": {
   "display_name": "Python 3",
   "language": "python",
   "name": "python3"
  },
  "language_info": {
   "codemirror_mode": {
    "name": "ipython",
    "version": 3
   },
   "file_extension": ".py",
   "mimetype": "text/x-python",
   "name": "python",
   "nbconvert_exporter": "python",
   "pygments_lexer": "ipython3",
   "version": "3.11.0"
  },
  "orig_nbformat": 4,
  "vscode": {
   "interpreter": {
    "hash": "aee8b7b246df8f9039afb4144a1f6fd8d2ca17a180786b69acc140d282b71a49"
   }
  }
 },
 "nbformat": 4,
 "nbformat_minor": 2
}
