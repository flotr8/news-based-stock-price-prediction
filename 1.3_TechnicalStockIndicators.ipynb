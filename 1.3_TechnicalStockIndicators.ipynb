{
 "cells": [
  {
   "cell_type": "code",
   "execution_count": null,
   "metadata": {},
   "outputs": [],
   "source": [
    "import pandas as pd\n",
    "from helpFunctions import*"
   ]
  },
  {
   "cell_type": "code",
   "execution_count": null,
   "metadata": {},
   "outputs": [],
   "source": [
    "ticker = \"AAPL\"\n",
    "#read in stock data\n",
    "data = pd.read_csv(r'data/stock_data/AAPL/AAPL_2021-01-01_2023-03-28.csv')\n",
    "data.head(5)"
   ]
  },
  {
   "cell_type": "code",
   "execution_count": null,
   "metadata": {},
   "outputs": [],
   "source": [
    "MiddleBand, UpperBand, LowerBand = BBANDS(data['Close'], 50)\n",
    "mavg = SMA(data['Close'], 30)\n",
    "emavg = EWMA(data['Close'], 30)\n",
    "RSI = rsi(data['Close'], 14)\n",
    "moneyFI = mfi(data['High'], data['Low'], data['Close'], data['Volume'], 14)\n",
    "FI = ForceIndex(data, 30)\n",
    "\n",
    "\n",
    "data['MiddleBand'] = MiddleBand\n",
    "data['UpperBand'] = UpperBand\n",
    "data['LowerBand'] = LowerBand\n",
    "data['Moving Average'] = mavg\n",
    "data['Exp. Weighted MA'] = emavg\n",
    "data['RSI'] = RSI\n",
    "data['MoneyFlowIndex'] = moneyFI\n",
    "data['FI'] = FI\n",
    "\n",
    "start = '2021-01-01' \n",
    "end = '2023-03-29' \n",
    "data['Datetime'] = pd.to_datetime(data['Datetime'])\n",
    "data = data.set_index('Datetime')\n",
    "data = data[(data.index > start) & (data.index < end)]\n",
    "\n",
    "#write stock data incl. indicators back to the file\n",
    "data.to_csv('data/stock_data/' + ticker + '/' + ticker + '_inclIndicators_' + start + '_' + end  +'.csv')"
   ]
  },
  {
   "cell_type": "code",
   "execution_count": null,
   "metadata": {},
   "outputs": [],
   "source": []
  }
 ],
 "metadata": {
  "kernelspec": {
   "display_name": "base",
   "language": "python",
   "name": "python3"
  },
  "language_info": {
   "codemirror_mode": {
    "name": "ipython",
    "version": 3
   },
   "file_extension": ".py",
   "mimetype": "text/x-python",
   "name": "python",
   "nbconvert_exporter": "python",
   "pygments_lexer": "ipython3",
   "version": "3.7.15"
  },
  "orig_nbformat": 4,
  "vscode": {
   "interpreter": {
    "hash": "9cd9cba96be51690fdf2e89f48d9c24126dbd81f80c0eb8bb1b203fd33f1f943"
   }
  }
 },
 "nbformat": 4,
 "nbformat_minor": 2
}
